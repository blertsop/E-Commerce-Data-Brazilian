{
  "cells": [
    {
      "cell_type": "markdown",
      "metadata": {
        "id": "view-in-github",
        "colab_type": "text"
      },
      "source": [
        "<a href=\"https://colab.research.google.com/github/blertsop/E-Commerce-Data-Brazilian/blob/main/Analisis_Brazillian_Data_Set.ipynb\" target=\"_parent\"><img src=\"https://colab.research.google.com/assets/colab-badge.svg\" alt=\"Open In Colab\"/></a>"
      ]
    },
    {
      "cell_type": "markdown",
      "metadata": {
        "id": "2U-Tl_jjq_-m"
      },
      "source": [
        "# Brazillian Data Set"
      ]
    },
    {
      "cell_type": "code",
      "execution_count": 1,
      "metadata": {
        "colab": {
          "base_uri": "https://localhost:8080/"
        },
        "id": "XDnvvhxNq-hf",
        "outputId": "60e968ab-291f-4db2-f1f8-787ca2b01ead"
      },
      "outputs": [
        {
          "output_type": "stream",
          "name": "stdout",
          "text": [
            "Drive already mounted at /content/drive; to attempt to forcibly remount, call drive.mount(\"/content/drive\", force_remount=True).\n"
          ]
        }
      ],
      "source": [
        "from google.colab import drive\n",
        "drive.mount('/content/drive')"
      ]
    },
    {
      "cell_type": "code",
      "execution_count": null,
      "metadata": {
        "id": "VCJOOde7rUg_"
      },
      "outputs": [],
      "source": [
        "import pandas as pd\n",
        "import numpy as np\n",
        "import seaborn as sns"
      ]
    },
    {
      "cell_type": "code",
      "execution_count": null,
      "metadata": {
        "id": "IFSVycESraqa"
      },
      "outputs": [],
      "source": [
        "df_customers = pd.read_csv(\"/content/drive/MyDrive/Proyectos Portafolio/Proyecto - E Commerce Data Brazilian/olist_customers_dataset.csv\")\n",
        "df_geolocation = pd.read_csv(\"/content/drive/MyDrive/Proyectos Portafolio/Proyecto - E Commerce Data Brazilian/olist_geolocation_dataset.csv\")\n",
        "df_order_items = pd.read_csv(\"/content/drive/MyDrive/Proyectos Portafolio/Proyecto - E Commerce Data Brazilian/olist_order_items_dataset.csv\")\n",
        "df_order_payments = pd.read_csv(\"/content/drive/MyDrive/Proyectos Portafolio/Proyecto - E Commerce Data Brazilian/olist_order_payments_dataset.csv\")\n",
        "df_order_reviews = pd.read_csv(\"/content/drive/MyDrive/Proyectos Portafolio/Proyecto - E Commerce Data Brazilian/olist_order_reviews_dataset.csv\")\n",
        "df_orders = pd.read_csv(\"/content/drive/MyDrive/Proyectos Portafolio/Proyecto - E Commerce Data Brazilian/olist_orders_dataset.csv\")\n",
        "df_products = pd.read_csv(\"/content/drive/MyDrive/Proyectos Portafolio/Proyecto - E Commerce Data Brazilian/olist_products_dataset.csv\")\n",
        "df_sellers = pd.read_csv(\"/content/drive/MyDrive/Proyectos Portafolio/Proyecto - E Commerce Data Brazilian/olist_sellers_dataset.csv\")\n",
        "df_trad_producto = pd.read_csv(\"/content/drive/MyDrive/Proyectos Portafolio/Proyecto - E Commerce Data Brazilian/product_category_name_translation.csv\")"
      ]
    },
    {
      "cell_type": "markdown",
      "metadata": {
        "id": "HaHuW5-VWARl"
      },
      "source": [
        "# Renombre de Columnas\n",
        "\n",
        "Proceso realizado con inteligencia artificial. (La traduccion y darle sentido al nombre de las columnas se realiza por cuenta propia)\n",
        "\n"
      ]
    },
    {
      "cell_type": "code",
      "execution_count": null,
      "metadata": {
        "id": "tEguYn_AV954"
      },
      "outputs": [],
      "source": [
        "# Renombrar columnas para df_customers\n",
        "df_customers.rename(columns={\n",
        "    'customer_id': 'id_cliente',\n",
        "    'customer_zip_code_prefix': 'cp_cliente',\n",
        "    'customer_unique_id': 'id_unico_cliente',\n",
        "    'customer_city': 'ciudad',\n",
        "    'customer_state': 'estado'\n",
        "}, inplace=True)\n",
        "\n",
        "# Renombrar columnas para df_geolocation\n",
        "df_geolocation.rename(columns={\n",
        "    'geolocation_zip_code_prefix': 'cp_geo',\n",
        "    'geolocation_lat': 'latitud',\n",
        "    'geolocation_lng': 'longitud',\n",
        "    'geolocation_city': 'ciudad_geo',\n",
        "    'geolocation_state': 'estado_geo'\n",
        "}, inplace=True)\n",
        "\n",
        "# Renombrar columnas para df_order_items\n",
        "df_order_items.rename(columns={\n",
        "    'order_item_id': 'id_order_item',\n",
        "    'product_id': 'id_producto',\n",
        "    'seller_id': 'id_vendedor',\n",
        "    'order_id': 'id_orden',\n",
        "    'shipping_limit_date': 'fecha_limite_envio',\n",
        "    'price': 'precio',\n",
        "    'freight_value': 'costo_envio'\n",
        "}, inplace=True)\n",
        "\n",
        "# Renombrar columnas para df_order_payments\n",
        "df_order_payments.rename(columns={\n",
        "    'order_id': 'id_orden',\n",
        "    'payment_sequential': 'secuencia_pago',\n",
        "    'payment_type': 'tipo_pago',\n",
        "    'payment_installments': 'pago_installments',\n",
        "    'payment_value': 'pago'\n",
        "}, inplace=True)\n",
        "\n",
        "# Renombrar columnas para df_order_reviews\n",
        "df_order_reviews.rename(columns={\n",
        "    'review_id': 'id_review',\n",
        "    'order_id': 'id_orden',\n",
        "    'review_score': 'puntuacion_review',\n",
        "    'review_comment_title': 'review_titulo',\n",
        "    'review_comment_message': 'review_mensaje',\n",
        "    'review_creation_date': 'fecha_creacion',\n",
        "    'review_answer_timestamp': 'fecha_respuesta'\n",
        "}, inplace=True)\n",
        "\n",
        "# Renombrar columnas para df_orders\n",
        "df_orders.rename(columns={\n",
        "    'order_id': 'id_orden',\n",
        "    'customer_id': 'cliente_id',\n",
        "    'order_status': 'estatus',\n",
        "    'order_purchase_timestamp': 'fecha_compra',\n",
        "    'order_approved_at': 'fecha_aprobacion',\n",
        "    'order_delivered_carrier_date': 'fecha_agencia_envio',\n",
        "    'order_delivered_customer_date': 'fecha_entrega',\n",
        "    'order_estimated_delivery_date': 'fecha_estimada_llegada'\n",
        "}, inplace=True)\n",
        "\n",
        "# Renombrar columnas para df_product_category_name_translation\n",
        "df_trad_producto.rename(columns={\n",
        "    'column1': 'traduccion',\n",
        "    'column2': 'nombre_producto'\n",
        "}, inplace=True)\n",
        "\n",
        "# Renombrar columnas para df_products\n",
        "df_products.rename(columns={\n",
        "    'product_id': 'id_producto',\n",
        "    'product_category_name': 'categoria_producto',\n",
        "    'product_name_lenght': 'nombre_longitud',\n",
        "    'product_description_lenght': 'descripcion_longitud',\n",
        "    'product_photos_qty': 'fotos_cantidad',\n",
        "    'product_weight_g': 'peso_producto',\n",
        "    'product_length_cm': 'longitud',\n",
        "    'product_height_cm': 'ancho',\n",
        "    'product_width_cm': 'profundidad'\n",
        "}, inplace=True)\n",
        "\n",
        "# Renombrar columnas para df_sellers\n",
        "df_sellers.rename(columns={\n",
        "    'seller_id': 'vendedor_id',\n",
        "    'seller_zip_code_prefix': 'cp_vendedor',\n",
        "    'seller_city': 'ciudad_vendedor',\n",
        "    'seller_state': 'estado_vendedor'\n",
        "}, inplace=True)\n",
        "\n",
        "print(\"Las columnas se han renombrado correctamente para todos los DataFrames en este conjunto.\")"
      ]
    },
    {
      "cell_type": "code",
      "execution_count": null,
      "metadata": {
        "id": "aTZT9CwKiIT_"
      },
      "outputs": [],
      "source": [
        "df_customers.name = \"df_customers\"\n",
        "df_geolocation.name = \"df_geolocation\"\n",
        "df_order_items.name = \"df_order_items\"\n",
        "df_order_payments.name = \"df_order_payments\"\n",
        "df_order_reviews.name = \"df_order_reviews\"\n",
        "df_orders.name = \"df_orders\"\n",
        "df_products.name = \"df_products\"\n",
        "df_sellers.name = \"df_sellers\"\n",
        "df_trad_producto.name = \"df_trad_producto\""
      ]
    },
    {
      "cell_type": "code",
      "execution_count": null,
      "metadata": {
        "id": "hB5OeuLiBTch"
      },
      "outputs": [],
      "source": [
        "\n",
        "lista_df = [\n",
        "    df_customers,\n",
        "    df_geolocation,\n",
        "    df_order_items,\n",
        "    df_order_payments,\n",
        "    df_order_reviews,\n",
        "    df_orders,\n",
        "    df_products,\n",
        "    df_sellers,\n",
        "    df_trad_producto\n",
        "]"
      ]
    },
    {
      "cell_type": "markdown",
      "metadata": {
        "id": "K94c_WxhEdOj"
      },
      "source": [
        "## Vista Previa"
      ]
    },
    {
      "cell_type": "code",
      "execution_count": null,
      "metadata": {
        "id": "Rp2j-KSjXWl1"
      },
      "outputs": [],
      "source": [
        "for df in lista_df:\n",
        "\n",
        "  print(df.name)\n",
        "  print(df.info())\n",
        "  print(\"\\n\")\n",
        "#  input()\n",
        "  for i in df.columns:\n",
        "    print(f\" \\n {df.name}\")\n",
        "    print(df[i].value_counts())\n",
        "    print(\"*\"*70)\n"
      ]
    },
    {
      "cell_type": "code",
      "execution_count": null,
      "metadata": {
        "id": "mYXGQUGaw74a"
      },
      "outputs": [],
      "source": [
        "# Casteo de columnas\n",
        "\n",
        "\n",
        "df_order_items[\"fecha_limite_envio\"] = pd.to_datetime(df_order_items.fecha_limite_envio)\n",
        "df_orders[\"fecha_compra\"] = pd.to_datetime(df_orders.fecha_compra)\n",
        "df_orders[\"fecha_aprobacion\"] = pd.to_datetime(df_orders.fecha_aprobacion)\n",
        "df_orders[\"fecha_agencia_envio\"] = pd.to_datetime(df_orders.fecha_agencia_envio)\n",
        "df_orders[\"fecha_entrega\"] = pd.to_datetime(df_orders.fecha_entrega)\n",
        "df_orders[\"fecha_estimada_llegada\"] = pd.to_datetime(df_orders.fecha_estimada_llegada)\n",
        "df_customers[\"cp_cliente\"] = df_customers[\"cp_cliente\"].astype(object)\n",
        "df_geolocation[\"cp_geo\"] = df_geolocation[\"cp_geo\"].astype(object)\n",
        "df_order_items[\"id_order_item\"] = df_order_items[\"id_order_item\"].astype(object)\n",
        "df_sellers[\"cp_vendedor\"] = df_sellers[\"cp_vendedor\"].astype(object)\n",
        "df_order_payments[\"secuencia_pago\"] = df_order_payments[\"secuencia_pago\"].astype(object)\n",
        "df_order_payments[\"pago_installments\"] = df_order_payments[\"pago_installments\"].astype(object)\n",
        "df_order_reviews[\"puntuacion_review\"] = df_order_reviews[\"puntuacion_review\"].astype(object)\n"
      ]
    },
    {
      "cell_type": "code",
      "execution_count": null,
      "metadata": {
        "id": "F7dpg9n5YylU"
      },
      "outputs": [],
      "source": [
        " for df in lista_df:\n",
        "    print(df.name)\n",
        "    print(df.describe(include=\"all\"))\n",
        "    print(\"*\"*70)"
      ]
    },
    {
      "cell_type": "code",
      "execution_count": null,
      "metadata": {
        "id": "aoBKHQLZlZAv"
      },
      "outputs": [],
      "source": [
        "# Busqueda de valores nulos\n",
        "\n",
        "for df in lista_df:\n",
        "  print(df.shape)\n",
        "  print(df.name)\n",
        "  for i in df.columns:\n",
        "    print(f\" \\n Nombre_columna: {i}\")\n",
        "    print(df[i].isna().sum())\n",
        "    print(df[i].isnull().sum())\n",
        "    print(\"*\"*70)\n",
        "  #input()"
      ]
    },
    {
      "cell_type": "markdown",
      "metadata": {
        "id": "UxM0FrX_5ITV"
      },
      "source": [
        "\n",
        "# **Creacion Tabla Review**\n",
        "\n"
      ]
    },
    {
      "cell_type": "code",
      "execution_count": null,
      "metadata": {
        "id": "hzqmBGzvYxwk"
      },
      "outputs": [],
      "source": [
        "# Creacion de Grafico Score y Venta por Fecha.\n",
        "\n",
        "tabla_orders = pd.DataFrame ({\n",
        "\n",
        "\"id_orden\": df_orders.id_orden,\n",
        "\"cliente_id\": df_orders.cliente_id,\n",
        "\"fecha_compra\": df_orders.fecha_compra,\n",
        "\"estatus\": df_orders.estatus,\n",
        "\n",
        "})\n",
        "\n",
        "tabla_order_reviews = pd.DataFrame ({\n",
        "\n",
        "\"id_orden\": df_order_reviews.id_orden,\n",
        "\"puntuacion_review\": df_order_reviews.puntuacion_review,\n",
        "\n",
        "})\n",
        "\n",
        "tabla_order_payments = pd.DataFrame ({\n",
        "\n",
        "\"id_orden\": df_order_payments.id_orden,\n",
        "\"tipo_pago\": df_order_payments.tipo_pago,\n",
        "\"pago\": df_order_payments.pago,\n",
        "\n",
        "})"
      ]
    },
    {
      "cell_type": "code",
      "execution_count": null,
      "metadata": {
        "id": "P80l_7y9bl2N"
      },
      "outputs": [],
      "source": [
        "ord_merge_revw = pd.merge(tabla_orders,tabla_order_reviews,how= \"left\")"
      ]
    },
    {
      "cell_type": "code",
      "execution_count": null,
      "metadata": {
        "id": "L8jON7G76quC"
      },
      "outputs": [],
      "source": [
        "tabla_score_venta = pd.merge(ord_merge_revw,tabla_order_payments,how= \"left\")\n",
        "tabla_score_venta"
      ]
    },
    {
      "cell_type": "code",
      "execution_count": null,
      "metadata": {
        "id": "MU_f8-c7dumv"
      },
      "outputs": [],
      "source": [
        "print(tabla_score_venta.isna().sum())"
      ]
    },
    {
      "cell_type": "markdown",
      "metadata": {
        "id": "tTDxYheiiBpk"
      },
      "source": [
        "Creacion de tabla order items"
      ]
    },
    {
      "cell_type": "code",
      "execution_count": null,
      "metadata": {
        "id": "Grg9ntItiA41"
      },
      "outputs": [],
      "source": [
        "\n",
        "tabla_order_items = pd.DataFrame ({\n",
        "\n",
        "\"id_orden\": df_order_items.id_orden,\n",
        "\"id_producto\": df_order_items.id_producto,\n",
        "\"id_vendedor\": df_order_items.id_vendedor,\n",
        "\"fecha_limite_envio\" : df_order_items.fecha_limite_envio,\n",
        "\"precio\": df_order_items.precio,\n",
        "\"costo_envio\": df_order_items.costo_envio,\n",
        "\n",
        "})\n",
        "\n",
        "\n",
        "\n",
        "tabla_customers = pd.DataFrame ({\n",
        "\n",
        "\"id_cliente\": df_customers.id_cliente,\n",
        "\"cp_cliente\": df_customers.cp_cliente,\n",
        "\"ciudad\": df_customers.ciudad,\n",
        "\"estado\": df_customers.estado,\n",
        "\n",
        "})\n",
        "\n",
        "\n",
        "tabla_geo = pd.DataFrame ({\n",
        "\n",
        "\"cp_geo\": df_geolocation.cp_geo,\n",
        "\"latitud\": df_geolocation.latitud,\n",
        "\"longitud\": df_geolocation.longitud,\n",
        "\n",
        "})\n",
        "\n",
        "\n",
        "tabla_sellers = pd.DataFrame ({\n",
        "\n",
        "\"vendedor_id\": df_sellers.vendedor_id,\n",
        "\"cp_vendedor\": df_sellers.cp_vendedor,\n",
        "\"ciudad_vendedor\": df_sellers.ciudad_vendedor,\n",
        "\"estado_vendedor\": df_sellers.estado_vendedor,\n",
        "\n",
        "\n",
        "\n",
        "})\n"
      ]
    },
    {
      "cell_type": "code",
      "execution_count": null,
      "metadata": {
        "id": "_av2rQyNOi7B"
      },
      "outputs": [],
      "source": [
        "# Dos columnas Tiempo desde fecha de entrega hasta la fecha de entrega y si hubo tardanza con la fecha estimada de llegada.\n",
        "\n",
        "\n",
        "\n",
        "tabla_tiempo_de_entrega = pd.DataFrame ({\n",
        "\n",
        "\"id_orden\": df_orders.id_orden,\n",
        "\"cliente_id\": df_orders.cliente_id,\n",
        "\"fecha_compra\": df_orders.fecha_compra,\n",
        "\"fecha_aprobacion\": df_orders.fecha_aprobacion,\n",
        "\"fecha_agencia_envio\": df_orders.fecha_agencia_envio,\n",
        "\"fecha_entrega\": df_orders.fecha_entrega,\n",
        "\"fecha_estimada_llegada\": df_orders.fecha_estimada_llegada,\n",
        "\n",
        "})\n",
        "\n",
        "tabla_tiempo_de_entrega[\"tiempo entrega\"] = tabla_tiempo_de_entrega[\"fecha_entrega\"] - tabla_tiempo_de_entrega[\"fecha_compra\"]\n",
        "\n",
        "tabla_tiempo_de_entrega[\"diferencia_fecha_estimada\"] = tabla_tiempo_de_entrega[\"fecha_estimada_llegada\"] - tabla_tiempo_de_entrega[\"fecha_entrega\"]\n",
        "\n",
        "tabla_tiempo_de_entrega.drop(columns=[\"fecha_compra\",\"fecha_aprobacion\",\"fecha_agencia_envio\",\n",
        "                                      \"fecha_agencia_envio\",\"fecha_entrega\",\"fecha_estimada_llegada\"], inplace = True)\n",
        "\n",
        "tabla_tiempo_de_entrega\n",
        "\n"
      ]
    },
    {
      "cell_type": "code",
      "execution_count": null,
      "metadata": {
        "id": "dVaRoADQ0myl"
      },
      "outputs": [],
      "source": [
        "tabla_productos = pd.DataFrame({\n",
        "\n",
        "    'id_producto': df_products.id_producto ,\n",
        "    'categoria_producto': df_products.categoria_producto,\n",
        "    'nombre_longitud': df_products.nombre_longitud,\n",
        "    'descripcion_longitud' : df_products.descripcion_longitud,\n",
        "    'fotos_cantidad': df_products.fotos_cantidad,\n",
        "    'peso_producto': df_products.peso_producto,\n",
        "    'longitud': df_products.longitud,\n",
        "    'ancho': df_products.ancho,\n",
        "    'profundidad': df_products.profundidad,\n",
        "})\n",
        "\n",
        "tabla_productos[\"longitud_web\"] = tabla_productos[\"nombre_longitud\"] + tabla_productos[\"descripcion_longitud\"]\n",
        "tabla_productos[\"volumen\"] = tabla_productos[\"longitud\"] * tabla_productos[\"ancho\"] * tabla_productos[\"profundidad\"]\n",
        "\n",
        "tabla_productos.drop(columns=[\"nombre_longitud\",\"descripcion_longitud\",\"longitud\",\"ancho\",\"profundidad\"], inplace=True)\n",
        "\n",
        "tabla_productos\n"
      ]
    },
    {
      "cell_type": "code",
      "source": [],
      "metadata": {
        "id": "noxnGIFt3WlN"
      },
      "execution_count": null,
      "outputs": []
    },
    {
      "cell_type": "markdown",
      "metadata": {
        "id": "KMRuk9zCfV7E"
      },
      "source": [
        "# Exportacion tabla"
      ]
    },
    {
      "cell_type": "code",
      "execution_count": null,
      "metadata": {
        "id": "_BRLoNJIelkM"
      },
      "outputs": [],
      "source": [
        "\n",
        "tabla_score_venta.to_csv(\"/content/drive/MyDrive/Proyectos Portafolio/Proyecto - E Commerce Data Brazilian/Tablas/tabla_score_venta.csv\",header = True)\n",
        "tabla_order_items.to_csv(\"/content/drive/MyDrive/Proyectos Portafolio/Proyecto - E Commerce Data Brazilian/Tablas/tabla_order_items.csv\",header = True)\n",
        "tabla_productos.to_csv(\"/content/drive/MyDrive/Proyectos Portafolio/Proyecto - E Commerce Data Brazilian/Tablas/tabla_productos.csv\",header = True)\n",
        "tabla_customers.to_csv(\"/content/drive/MyDrive/Proyectos Portafolio/Proyecto - E Commerce Data Brazilian/Tablas/tabla_customers.csv\",header = True)\n",
        "tabla_geo.to_csv(\"/content/drive/MyDrive/Proyectos Portafolio/Proyecto - E Commerce Data Brazilian/Tablas/tabla_geo_venta.csv\",header = True)\n",
        "tabla_sellers.to_csv(\"/content/drive/MyDrive/Proyectos Portafolio/Proyecto - E Commerce Data Brazilian/Tablas/tabla_sellers_venta.csv\",header = True)\n",
        "tabla_tiempo_de_entrega.to_csv(\"/content/drive/MyDrive/Proyectos Portafolio/Proyecto - E Commerce Data Brazilian/Tablas/tabla_tiempos_de_entrega.csv\",header = True)\n",
        "df_trad_producto.to_csv(\"/content/drive/MyDrive/Proyectos Portafolio/Proyecto - E Commerce Data Brazilian/Tablas/df_trad_producto.csv\",header = True)\n"
      ]
    },
    {
      "cell_type": "code",
      "source": [
        "df_cp = [tabla_geo,tabla_customers,tabla_sellers]\n",
        "\n",
        "for i in df_cp:\n",
        "  print(i.describe(include=\"all\"))"
      ],
      "metadata": {
        "id": "b5aHeV9XKqjl"
      },
      "execution_count": null,
      "outputs": []
    },
    {
      "cell_type": "code",
      "execution_count": null,
      "metadata": {
        "id": "4IAUakZvBg5B"
      },
      "outputs": [],
      "source": [
        "#review_score = ord_merge_revw.drop(['order_status', 'customer_id', 'order_purchase_timestamp',\n",
        " #      'order_approved_at', 'order_delivered_carrier_date',\n",
        "  #     'order_delivered_customer_date', 'order_estimated_delivery_date',\n",
        "   #    'review_id',\n",
        "    #   'review_comment_message'], axis = 1)\n",
        "\n"
      ]
    }
  ],
  "metadata": {
    "colab": {
      "provenance": [],
      "mount_file_id": "1DxNtyTbX66mKqsK5pdpApb67FAe1oEsQ",
      "authorship_tag": "ABX9TyMT36YrbXd9W2sybQNa4cq/",
      "include_colab_link": true
    },
    "kernelspec": {
      "display_name": "Python 3",
      "name": "python3"
    },
    "language_info": {
      "name": "python"
    }
  },
  "nbformat": 4,
  "nbformat_minor": 0
}